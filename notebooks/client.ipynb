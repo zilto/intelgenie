{
 "cells": [
  {
   "cell_type": "code",
   "execution_count": 16,
   "metadata": {
    "collapsed": true,
    "pycharm": {
     "name": "#%%\n"
    }
   },
   "outputs": [],
   "source": [
    "import json\n",
    "from pathlib import Path\n",
    "from typing import Union, List\n",
    "import requests\n",
    "\n",
    "from bs4 import BeautifulSoup\n",
    "from weaviate.util import generate_uuid5\n",
    "import weaviate"
   ]
  },
  {
   "cell_type": "code",
   "execution_count": 2,
   "outputs": [],
   "source": [
    "def get_links(filepath: str = \"../data/links.txt\") -> list:\n",
    "    with open(filepath, \"r\") as f:\n",
    "        links = [line.strip() for line in f.readlines()]\n",
    "    return links"
   ],
   "metadata": {
    "collapsed": false,
    "pycharm": {
     "name": "#%%\n"
    }
   }
  },
  {
   "cell_type": "code",
   "execution_count": 3,
   "outputs": [],
   "source": [
    "def request_article(link: str):\n",
    "    response = requests.get(link)\n",
    "    html = response.text\n",
    "    return html"
   ],
   "metadata": {
    "collapsed": false,
    "pycharm": {
     "name": "#%%\n"
    }
   }
  },
  {
   "cell_type": "code",
   "execution_count": 4,
   "outputs": [],
   "source": [
    "def write_html_to_file(filepath: str, html) -> None:\n",
    "    with open(filepath, \"w\") as f:\n",
    "        f.write(html)\n",
    "\n",
    "def read_html_from_file(filepath):\n",
    "    with open(filepath, \"r\") as f:\n",
    "        html = f.read()\n",
    "    return html"
   ],
   "metadata": {
    "collapsed": false,
    "pycharm": {
     "name": "#%%\n"
    }
   }
  },
  {
   "cell_type": "code",
   "execution_count": 5,
   "outputs": [],
   "source": [
    "def parse_paragraphs(html) -> List[str]:\n",
    "    soup = BeautifulSoup(html)\n",
    "    results = soup.article.find_all(\"p\")\n",
    "    paragraphs = [p.text for p in results]\n",
    "    return paragraphs\n",
    "\n",
    "def parse_summary(html) -> str:\n",
    "    soup = BeautifulSoup(html)\n",
    "    results = soup.head.find_all(property=\"og:description\")\n",
    "    summary = results[0][\"content\"]\n",
    "    return summary\n",
    "\n",
    "def parse_title(html) -> str:\n",
    "    soup = BeautifulSoup(html)\n",
    "    results = soup.head.find_all(property=\"og:title\")\n",
    "    title = results[0][\"content\"]\n",
    "    return title\n",
    "\n",
    "def parse_source(html) -> str:\n",
    "    soup = BeautifulSoup(html)\n",
    "    results = soup.head.find_all(property=\"og:site_name\")\n",
    "    source = results[0][\"content\"]\n",
    "    return source"
   ],
   "metadata": {
    "collapsed": false,
    "pycharm": {
     "name": "#%%\n"
    }
   }
  },
  {
   "cell_type": "code",
   "execution_count": 6,
   "outputs": [
    {
     "data": {
      "text/plain": "['https://txt.cohere.ai/topic-modeling-trending-ai-papers/',\n 'https://txt.cohere.ai/llm-parameters-best-outputs-language-ai/',\n 'https://huyenchip.com/2022/08/03/stream-processing-for-data-scientists.html',\n 'https://multithreaded.stitchfix.com/blog/2022/08/02/configuration-driven-ml-pipelines/']"
     },
     "execution_count": 6,
     "metadata": {},
     "output_type": "execute_result"
    }
   ],
   "source": [
    "get_links()"
   ],
   "metadata": {
    "collapsed": false,
    "pycharm": {
     "name": "#%%\n"
    }
   }
  },
  {
   "cell_type": "code",
   "execution_count": 7,
   "outputs": [],
   "source": [
    "html = request_article(\"https://txt.cohere.ai/topic-modeling-trending-ai-papers/\")"
   ],
   "metadata": {
    "collapsed": false,
    "pycharm": {
     "name": "#%%\n"
    }
   }
  },
  {
   "cell_type": "code",
   "execution_count": 22,
   "outputs": [
    {
     "data": {
      "text/plain": "'Context by Cohere'"
     },
     "execution_count": 22,
     "metadata": {},
     "output_type": "execute_result"
    }
   ],
   "source": [
    "parse_source(html)"
   ],
   "metadata": {
    "collapsed": false,
    "pycharm": {
     "name": "#%%\n"
    }
   }
  },
  {
   "cell_type": "code",
   "execution_count": 32,
   "outputs": [],
   "source": [
    "def create_article_obj(html: str) -> dict:\n",
    "    article_obj = dict(\n",
    "        title=parse_title(html),\n",
    "        summary=parse_summary(html),\n",
    "        source=parse_source(html)\n",
    "    )\n",
    "    return article_obj"
   ],
   "metadata": {
    "collapsed": false,
    "pycharm": {
     "name": "#%%\n"
    }
   }
  },
  {
   "cell_type": "code",
   "execution_count": 33,
   "outputs": [],
   "source": [
    "article = create_article_obj(html)"
   ],
   "metadata": {
    "collapsed": false,
    "pycharm": {
     "name": "#%%\n"
    }
   }
  },
  {
   "cell_type": "code",
   "execution_count": 34,
   "outputs": [],
   "source": [
    "def load_schema_classes(schema_path) -> dict:\n",
    "    schema_path = Path(schema_path)\n",
    "\n",
    "    schema_classes = dict(classes=[])\n",
    "    for file in schema_path.iterdir():\n",
    "        if file.suffix == \".json\":\n",
    "            with open(file) as f:\n",
    "                schema = json.load(f)\n",
    "                schema_classes[\"classes\"].append(schema)\n",
    "\n",
    "    return schema_classes"
   ],
   "metadata": {
    "collapsed": false,
    "pycharm": {
     "name": "#%%\n"
    }
   }
  },
  {
   "cell_type": "code",
   "execution_count": 35,
   "outputs": [],
   "source": [
    "def load_article(client, html) -> None:\n",
    "    with client.batch() as batch:\n",
    "        article_obj = create_article_obj(html)\n",
    "        article_uuid = generate_uuid5(article_obj, \"Article\")\n",
    "\n",
    "        batch.add_data_object(data_object=article_obj, class_name=\"Article\", uuid=article_uuid)\n",
    "\n",
    "        for idx, paragraph in enumerate(parse_paragraphs(html)):\n",
    "            paragraph_obj = dict(index=idx, content=paragraph)\n",
    "            paragraph_uuid = generate_uuid5(paragraph_obj, \"Paragraph\")\n",
    "            batch.add_data_object(data_object=paragraph_obj, class_name=\"Paragraph\", uuid=paragraph_uuid)\n",
    "\n",
    "            batch.add_reference(article_uuid, \"Article\", \"hasParagraphs\", paragraph_uuid, \"Paragraph\")\n",
    "            batch.add_reference(article_uuid, \"Paragraph\", \"fromArticle\", article_uuid, \"Article\")"
   ],
   "metadata": {
    "collapsed": false,
    "pycharm": {
     "name": "#%%\n"
    }
   }
  },
  {
   "cell_type": "code",
   "execution_count": 36,
   "outputs": [],
   "source": [
    "client = weaviate.client.Client(url=\"http://localhost:8080\")\n",
    "\n",
    "client.schema.delete_all()\n",
    "schemas = load_schema_classes(\"../schema\")\n",
    "client.schema.create(schemas)"
   ],
   "metadata": {
    "collapsed": false,
    "pycharm": {
     "name": "#%%\n"
    }
   }
  },
  {
   "cell_type": "code",
   "execution_count": 37,
   "outputs": [],
   "source": [
    "data_path = Path(\"../data/articles\")\n",
    "for file in data_path.iterdir():\n",
    "    if file.name.endswith(\".html\"):\n",
    "        html = read_html_from_file(file)\n",
    "        load_article(client, html)"
   ],
   "metadata": {
    "collapsed": false,
    "pycharm": {
     "name": "#%%\n"
    }
   }
  }
 ],
 "metadata": {
  "kernelspec": {
   "display_name": "Python 3",
   "language": "python",
   "name": "python3"
  },
  "language_info": {
   "codemirror_mode": {
    "name": "ipython",
    "version": 2
   },
   "file_extension": ".py",
   "mimetype": "text/x-python",
   "name": "python",
   "nbconvert_exporter": "python",
   "pygments_lexer": "ipython2",
   "version": "2.7.6"
  }
 },
 "nbformat": 4,
 "nbformat_minor": 0
}