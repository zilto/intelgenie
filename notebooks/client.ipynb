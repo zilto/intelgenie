{
 "cells": [
  {
   "cell_type": "code",
   "execution_count": 1,
   "metadata": {
    "collapsed": true,
    "pycharm": {
     "name": "#%%\n"
    }
   },
   "outputs": [],
   "source": [
    "import json\n",
    "from pathlib import Path\n",
    "from typing import Union, List\n",
    "import requests\n",
    "\n",
    "from bs4 import BeautifulSoup\n",
    "from weaviate.util import generate_uuid5\n",
    "import weaviate"
   ]
  },
  {
   "cell_type": "markdown",
   "source": [
    "# Querying and parsing"
   ],
   "metadata": {
    "collapsed": false,
    "pycharm": {
     "name": "#%% md\n"
    }
   }
  },
  {
   "cell_type": "code",
   "execution_count": 17,
   "outputs": [],
   "source": [
    "def get_links(filepath: str = \"../data/links.txt\") -> list:\n",
    "    with open(filepath, \"r\", encoding=\"utf-8\") as f:\n",
    "        links = [line.strip() for line in f.readlines()]\n",
    "    return links"
   ],
   "metadata": {
    "collapsed": false,
    "pycharm": {
     "name": "#%%\n"
    }
   }
  },
  {
   "cell_type": "code",
   "execution_count": 18,
   "outputs": [],
   "source": [
    "def request_article(link: str):\n",
    "    response = requests.get(link)\n",
    "    html = response.text\n",
    "    return html"
   ],
   "metadata": {
    "collapsed": false,
    "pycharm": {
     "name": "#%%\n"
    }
   }
  },
  {
   "cell_type": "code",
   "execution_count": 19,
   "outputs": [],
   "source": [
    "def write_html_to_file(filepath: str, html) -> None:\n",
    "    with open(filepath, \"w\", encoding=\"utf-8\") as f:\n",
    "        f.write(html)\n",
    "\n",
    "def read_html_from_file(filepath):\n",
    "    with open(filepath, \"r\", encoding=\"utf-8\") as f:\n",
    "        html = f.read()\n",
    "    return html"
   ],
   "metadata": {
    "collapsed": false,
    "pycharm": {
     "name": "#%%\n"
    }
   }
  },
  {
   "cell_type": "code",
   "execution_count": 84,
   "outputs": [],
   "source": [
    "def parse_paragraphs(html) -> List[str]:\n",
    "    soup = BeautifulSoup(html)\n",
    "    results = soup.article.find_all(\"p\")\n",
    "    paragraphs = [p.text for p in results]\n",
    "    return paragraphs\n",
    "\n",
    "def parse_summary(html) -> str:\n",
    "    def _description_match_func(tag):\n",
    "        if tag.name == \"meta\":\n",
    "            if name := tag.get(\"name\"):\n",
    "                if name == \"og:description\":\n",
    "                    return True\n",
    "                elif name == \"description\":\n",
    "                    return True\n",
    "            elif tag.get(\"property\") == \"og:description\":\n",
    "                return True\n",
    "        else:\n",
    "            return False\n",
    "\n",
    "    soup = BeautifulSoup(html)\n",
    "    results = soup.head.find_all(_description_match_func)\n",
    "    summary = results[0][\"content\"]\n",
    "    return summary\n",
    "\n",
    "def parse_title(html) -> str:\n",
    "    def _title_match_func(tag):\n",
    "        if tag.name == \"meta\":\n",
    "            if name := tag.get(\"name\"):\n",
    "                if name == \"og:title\":\n",
    "                    return True\n",
    "                elif name == \"description\":\n",
    "                    return True\n",
    "            elif tag.get(\"property\") == \"og:title\":\n",
    "                return True\n",
    "        # elif tag.name == \"title\":\n",
    "        #     return True\n",
    "        else:\n",
    "            return False\n",
    "\n",
    "    soup = BeautifulSoup(html)\n",
    "    results = soup.head.find_all(_title_match_func)\n",
    "    title = results[0][\"content\"]\n",
    "    return title\n",
    "\n",
    "def parse_source(html) -> str:\n",
    "    def _site_match_func(tag):\n",
    "        if tag.name == \"meta\":\n",
    "            if tag.get(\"name\") == \"og:site_name\":\n",
    "                return True\n",
    "            elif tag.get(\"property\") == \"og:site_name\":\n",
    "                return True\n",
    "        else:\n",
    "            return False\n",
    "\n",
    "    soup = BeautifulSoup(html)\n",
    "    if results := soup.head.find_all(_site_match_func):\n",
    "        source = results[0][\"content\"]\n",
    "    else:\n",
    "        source = []\n",
    "    return source"
   ],
   "metadata": {
    "collapsed": false,
    "pycharm": {
     "name": "#%%\n"
    }
   }
  },
  {
   "cell_type": "code",
   "execution_count": 29,
   "outputs": [],
   "source": [
    "def download_articles(links: List[str]) -> None:\n",
    "    for url in links:\n",
    "        html = request_article(url)\n",
    "        write_html_to_file(f\"../data/articles/{url[-10:-1]}.html\", html)"
   ],
   "metadata": {
    "collapsed": false,
    "pycharm": {
     "name": "#%%\n"
    }
   }
  },
  {
   "cell_type": "code",
   "execution_count": 26,
   "outputs": [],
   "source": [
    "def read_articles(dirpath: str) -> str:\n",
    "    dirpath = Path(dirpath)\n",
    "    for file in dirpath.iterdir():\n",
    "        if file.suffix == \".html\":\n",
    "            html = read_html_from_file(file)\n",
    "            yield html"
   ],
   "metadata": {
    "collapsed": false,
    "pycharm": {
     "name": "#%%\n"
    }
   }
  },
  {
   "cell_type": "code",
   "execution_count": 27,
   "outputs": [],
   "source": [
    "def create_article_obj(html: str) -> dict:\n",
    "    article_obj = dict(\n",
    "        title=parse_title(html),\n",
    "        summary=parse_summary(html),\n",
    "        source=parse_source(html)\n",
    "    )\n",
    "    return article_obj"
   ],
   "metadata": {
    "collapsed": false,
    "pycharm": {
     "name": "#%%\n"
    }
   }
  },
  {
   "cell_type": "code",
   "execution_count": 30,
   "outputs": [],
   "source": [
    "download_articles(get_links())"
   ],
   "metadata": {
    "collapsed": false,
    "pycharm": {
     "name": "#%%\n"
    }
   }
  },
  {
   "cell_type": "code",
   "execution_count": 85,
   "outputs": [
    {
     "name": "stdout",
     "output_type": "stream",
     "text": [
      "0\n"
     ]
    },
    {
     "ename": "KeyError",
     "evalue": "'content'",
     "output_type": "error",
     "traceback": [
      "\u001B[1;31m---------------------------------------------------------------------------\u001B[0m",
      "\u001B[1;31mKeyError\u001B[0m                                  Traceback (most recent call last)",
      "Input \u001B[1;32mIn [85]\u001B[0m, in \u001B[0;36m<cell line: 3>\u001B[1;34m()\u001B[0m\n\u001B[0;32m      3\u001B[0m \u001B[38;5;28;01mfor\u001B[39;00m idx, article_html \u001B[38;5;129;01min\u001B[39;00m \u001B[38;5;28menumerate\u001B[39m(all_html):\n\u001B[0;32m      4\u001B[0m     \u001B[38;5;28mprint\u001B[39m(idx)\n\u001B[1;32m----> 5\u001B[0m     articles\u001B[38;5;241m.\u001B[39mappend(\u001B[43mcreate_article_obj\u001B[49m\u001B[43m(\u001B[49m\u001B[43marticle_html\u001B[49m\u001B[43m)\u001B[49m)\n",
      "Input \u001B[1;32mIn [27]\u001B[0m, in \u001B[0;36mcreate_article_obj\u001B[1;34m(html)\u001B[0m\n\u001B[0;32m      1\u001B[0m \u001B[38;5;28;01mdef\u001B[39;00m \u001B[38;5;21mcreate_article_obj\u001B[39m(html: \u001B[38;5;28mstr\u001B[39m) \u001B[38;5;241m-\u001B[39m\u001B[38;5;241m>\u001B[39m \u001B[38;5;28mdict\u001B[39m:\n\u001B[0;32m      2\u001B[0m     article_obj \u001B[38;5;241m=\u001B[39m \u001B[38;5;28mdict\u001B[39m(\n\u001B[1;32m----> 3\u001B[0m         title\u001B[38;5;241m=\u001B[39m\u001B[43mparse_title\u001B[49m\u001B[43m(\u001B[49m\u001B[43mhtml\u001B[49m\u001B[43m)\u001B[49m,\n\u001B[0;32m      4\u001B[0m         summary\u001B[38;5;241m=\u001B[39mparse_summary(html),\n\u001B[0;32m      5\u001B[0m         source\u001B[38;5;241m=\u001B[39mparse_source(html)\n\u001B[0;32m      6\u001B[0m     )\n\u001B[0;32m      7\u001B[0m     \u001B[38;5;28;01mreturn\u001B[39;00m article_obj\n",
      "Input \u001B[1;32mIn [84]\u001B[0m, in \u001B[0;36mparse_title\u001B[1;34m(html)\u001B[0m\n\u001B[0;32m     40\u001B[0m soup \u001B[38;5;241m=\u001B[39m BeautifulSoup(html)\n\u001B[0;32m     41\u001B[0m results \u001B[38;5;241m=\u001B[39m soup\u001B[38;5;241m.\u001B[39mhead\u001B[38;5;241m.\u001B[39mfind_all(_title_match_func)\n\u001B[1;32m---> 42\u001B[0m title \u001B[38;5;241m=\u001B[39m \u001B[43mresults\u001B[49m\u001B[43m[\u001B[49m\u001B[38;5;241;43m0\u001B[39;49m\u001B[43m]\u001B[49m\u001B[43m[\u001B[49m\u001B[38;5;124;43m\"\u001B[39;49m\u001B[38;5;124;43mcontent\u001B[39;49m\u001B[38;5;124;43m\"\u001B[39;49m\u001B[43m]\u001B[49m\n\u001B[0;32m     43\u001B[0m \u001B[38;5;28;01mreturn\u001B[39;00m title\n",
      "File \u001B[1;32m~\\miniconda3\\envs\\nlp\\lib\\site-packages\\bs4\\element.py:1519\u001B[0m, in \u001B[0;36mTag.__getitem__\u001B[1;34m(self, key)\u001B[0m\n\u001B[0;32m   1516\u001B[0m \u001B[38;5;28;01mdef\u001B[39;00m \u001B[38;5;21m__getitem__\u001B[39m(\u001B[38;5;28mself\u001B[39m, key):\n\u001B[0;32m   1517\u001B[0m     \u001B[38;5;124;03m\"\"\"tag[key] returns the value of the 'key' attribute for the Tag,\u001B[39;00m\n\u001B[0;32m   1518\u001B[0m \u001B[38;5;124;03m    and throws an exception if it's not there.\"\"\"\u001B[39;00m\n\u001B[1;32m-> 1519\u001B[0m     \u001B[38;5;28;01mreturn\u001B[39;00m \u001B[38;5;28;43mself\u001B[39;49m\u001B[38;5;241;43m.\u001B[39;49m\u001B[43mattrs\u001B[49m\u001B[43m[\u001B[49m\u001B[43mkey\u001B[49m\u001B[43m]\u001B[49m\n",
      "\u001B[1;31mKeyError\u001B[0m: 'content'"
     ]
    }
   ],
   "source": [
    "all_html = [h for h in read_articles(\"../data/articles\")]\n",
    "articles = []\n",
    "for idx, article_html in enumerate(all_html):\n",
    "    print(idx)\n",
    "    articles.append(create_article_obj(article_html))"
   ],
   "metadata": {
    "collapsed": false,
    "pycharm": {
     "name": "#%%\n"
    }
   }
  },
  {
   "cell_type": "code",
   "execution_count": 82,
   "outputs": [
    {
     "data": {
      "text/plain": "[<meta charset=\"utf-8\"/>,\n <meta content=\"IE=edge\" http-equiv=\"X-UA-Compatible\"/>,\n <meta content=\"width=device-width, initial-scale=1\" name=\"viewport\"/>,\n <title>Introduction to streaming for data scientists</title>,\n <meta content=\"As machine learning moves towards real-time, streaming technology is becoming increasingly important for data scientists. Like many people coming from a mach...\" name=\"description\"/>,\n <link href=\"/assets/main.css\" rel=\"stylesheet\"/>,\n <link href=\"https://huyenchip.com/2022/08/03/stream-processing-for-data-scientists.html\" rel=\"canonical\"/>,\n <link href=\"/feed.xml\" rel=\"alternate\" title=\"Chip Huyen\" type=\"application/rss+xml\"/>,\n <script>\n   (function(i,s,o,g,r,a,m){i['GoogleAnalyticsObject']=r;i[r]=i[r]||function(){\n   (i[r].q=i[r].q||[]).push(arguments)},i[r].l=1*new Date();a=s.createElement(o),\n   m=s.getElementsByTagName(o)[0];a.async=1;a.src=g;m.parentNode.insertBefore(a,m)\n   })(window,document,'script','https://www.google-analytics.com/analytics.js','ga');\n \n   ga('create', 'UA-103070243-1', 'auto');\n   ga('send', 'pageview');\n \n </script>,\n <script src=\"https://ajax.googleapis.com/ajax/libs/jquery/3.6.0/jquery.min.js\"></script>,\n <script src=\"https://pixel-v0.wl.r.appspot.com/static/pixel.js\" type=\"text/javascript\"></script>,\n <script type=\"text/javascript\">\n     let ccid = \"huyenchip.com\";\n     cc(ccid);\n </script>]"
     },
     "execution_count": 82,
     "metadata": {},
     "output_type": "execute_result"
    }
   ],
   "source": [
    "soup = BeautifulSoup(all_html[3])\n",
    "soup.head.find_all()"
   ],
   "metadata": {
    "collapsed": false,
    "pycharm": {
     "name": "#%%\n"
    }
   }
  },
  {
   "cell_type": "markdown",
   "source": [
    "# Weaviate"
   ],
   "metadata": {
    "collapsed": false,
    "pycharm": {
     "name": "#%% md\n"
    }
   }
  },
  {
   "cell_type": "code",
   "execution_count": 34,
   "outputs": [],
   "source": [
    "def load_schema_classes(schema_path) -> dict:\n",
    "    schema_path = Path(schema_path)\n",
    "\n",
    "    schema_classes = dict(classes=[])\n",
    "    for file in schema_path.iterdir():\n",
    "        if file.suffix == \".json\":\n",
    "            with open(file) as f:\n",
    "                schema = json.load(f)\n",
    "                schema_classes[\"classes\"].append(schema)\n",
    "\n",
    "    return schema_classes"
   ],
   "metadata": {
    "collapsed": false,
    "pycharm": {
     "name": "#%%\n"
    }
   }
  },
  {
   "cell_type": "code",
   "execution_count": 35,
   "outputs": [],
   "source": [
    "def load_article(client, html) -> None:\n",
    "    with client.batch() as batch:\n",
    "        article_obj = create_article_obj(html)\n",
    "        article_uuid = generate_uuid5(article_obj, \"Article\")\n",
    "\n",
    "        batch.add_data_object(data_object=article_obj, class_name=\"Article\", uuid=article_uuid)\n",
    "\n",
    "        for idx, paragraph in enumerate(parse_paragraphs(html)):\n",
    "            paragraph_obj = dict(index=idx, content=paragraph)\n",
    "            paragraph_uuid = generate_uuid5(paragraph_obj, \"Paragraph\")\n",
    "            batch.add_data_object(data_object=paragraph_obj, class_name=\"Paragraph\", uuid=paragraph_uuid)\n",
    "\n",
    "            batch.add_reference(article_uuid, \"Article\", \"hasParagraphs\", paragraph_uuid, \"Paragraph\")\n",
    "            batch.add_reference(article_uuid, \"Paragraph\", \"fromArticle\", article_uuid, \"Article\")"
   ],
   "metadata": {
    "collapsed": false,
    "pycharm": {
     "name": "#%%\n"
    }
   }
  },
  {
   "cell_type": "code",
   "execution_count": 36,
   "outputs": [],
   "source": [
    "client = weaviate.client.Client(url=\"http://localhost:8080\")\n",
    "\n",
    "client.schema.delete_all()\n",
    "schemas = load_schema_classes(\"../schema\")\n",
    "client.schema.create(schemas)"
   ],
   "metadata": {
    "collapsed": false,
    "pycharm": {
     "name": "#%%\n"
    }
   }
  },
  {
   "cell_type": "code",
   "execution_count": 37,
   "outputs": [],
   "source": [
    "data_path = Path(\"../data/articles\")\n",
    "for file in data_path.iterdir():\n",
    "    if file.name.endswith(\".html\"):\n",
    "        html = read_html_from_file(file)\n",
    "        load_article(client, html)"
   ],
   "metadata": {
    "collapsed": false,
    "pycharm": {
     "name": "#%%\n"
    }
   }
  }
 ],
 "metadata": {
  "kernelspec": {
   "display_name": "Python 3",
   "language": "python",
   "name": "python3"
  },
  "language_info": {
   "codemirror_mode": {
    "name": "ipython",
    "version": 2
   },
   "file_extension": ".py",
   "mimetype": "text/x-python",
   "name": "python",
   "nbconvert_exporter": "python",
   "pygments_lexer": "ipython2",
   "version": "2.7.6"
  }
 },
 "nbformat": 4,
 "nbformat_minor": 0
}